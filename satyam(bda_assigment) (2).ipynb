{
  "nbformat": 4,
  "nbformat_minor": 0,
  "metadata": {
    "colab": {
      "provenance": []
    },
    "kernelspec": {
      "name": "python3",
      "display_name": "Python 3"
    },
    "language_info": {
      "name": "python"
    }
  },
  "cells": [
    {
      "cell_type": "code",
      "execution_count": null,
      "metadata": {
        "collapsed": true,
        "id": "dJeK4IBSjlVf"
      },
      "outputs": [],
      "source": [
        "import cv2\n",
        "from google.colab.patches import cv2_imshow # Import cv2_imshow for Colab compatibility\n",
        "\n",
        "# Replace with the path to your video file\n",
        "video_file_path = \"/content/bda photo 2.mp4\"\n",
        "# Initialize video capture with the video file\n",
        "video_capture = cv2.VideoCapture(video_file_path)\n",
        "\n",
        "# Check if the video stream is opened successfully\n",
        "if not video_capture.isOpened():\n",
        "    print(\"Error opening video stream or file\")\n",
        "    exit()\n",
        "\n",
        "while True:\n",
        "    # Read a frame from the video stream\n",
        "    ret, frame = video_capture.read()\n",
        "\n",
        "    # If frame is read correctly, ret is True\n",
        "    if not ret:\n",
        "        print(\"Can't receive frame (stream end?). Exiting ...\")\n",
        "        break\n",
        "\n",
        "    # Perform analysis on the frame here\n",
        "    # Example: Convert to grayscale\n",
        "    gray = cv2.cvtColor(frame, cv2.COLOR_BGR2GRAY)\n",
        "\n",
        "    # Display the resulting frame using cv2_imshow for Colab\n",
        "    cv2_imshow(gray) # Replaced cv2.imshow with cv2_imshow\n",
        "\n",
        "    # Exit if 'q' is pressed\n",
        "    if cv2.waitKey(1) & 0xFF == ord('q'):\n",
        "        break\n",
        "\n",
        "# When everything done, release the capture\n",
        "video_capture.release()\n",
        "cv2.destroyAllWindows()"
      ]
    },
    {
      "cell_type": "code",
      "source": [
        "from pyspark.sql import SparkSession\n",
        "\n",
        "# Create a SparkSession\n",
        "spark = SparkSession.builder.appName(\"WordCount\").getOrCreate()\n",
        "\n",
        "# Read the text file from the local system\n",
        "# Use 'file:///' prefix for local files and forward slashes for path separators\n",
        "file_path = \"/content/1. Define the Objective.txt\"  # Replace with your file path\n",
        "text_file = spark.read.text(file_path).rdd.map(lambda r: r[0])\n",
        "\n",
        "# Split the lines into words and count them\n",
        "word_counts = text_file.flatMap(lambda line: line.split(\" \")).count()\n",
        "\n",
        "# Print the word count\n",
        "print(\"Number of words in the file:\", word_counts)\n",
        "\n",
        "# Stop the SparkSession\n",
        "spark.stop()"
      ],
      "metadata": {
        "colab": {
          "base_uri": "https://localhost:8080/"
        },
        "id": "gTvM7GEilI0d",
        "outputId": "9cbe0c55-6f8e-45e7-d12f-db0835d4acc9"
      },
      "execution_count": 2,
      "outputs": [
        {
          "output_type": "stream",
          "name": "stdout",
          "text": [
            "Number of words in the file: 248\n"
          ]
        }
      ]
    }
  ]
}